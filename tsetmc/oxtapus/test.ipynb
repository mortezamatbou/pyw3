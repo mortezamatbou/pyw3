{
 "cells": [
  {
   "cell_type": "code",
   "execution_count": 7,
   "metadata": {},
   "outputs": [
    {
     "data": {
      "text/html": [
       "<div><style>\n",
       ".dataframe > thead > tr,\n",
       ".dataframe > tbody > tr {\n",
       "  text-align: right;\n",
       "  white-space: pre-wrap;\n",
       "}\n",
       "</style>\n",
       "<small>shape: (3_915, 6)</small><table border=\"1\" class=\"dataframe\"><thead><tr><th>date</th><th>jdate</th><th>open</th><th>high</th><th>low</th><th>close</th></tr><tr><td>date</td><td>str</td><td>f64</td><td>f64</td><td>f64</td><td>f64</td></tr></thead><tbody><tr><td>2024-05-25</td><td>&quot;1403-03-05&quot;</td><td>0.0</td><td>0.0</td><td>0.0</td><td>0.0</td></tr><tr><td>2024-05-14</td><td>&quot;1403-02-25&quot;</td><td>594850.0</td><td>595600.0</td><td>594800.0</td><td>595000.0</td></tr><tr><td>2024-04-06</td><td>&quot;1403-01-18&quot;</td><td>647000.0</td><td>647000.0</td><td>647000.0</td><td>647000.0</td></tr><tr><td>2024-04-04</td><td>&quot;1403-01-16&quot;</td><td>635620.0</td><td>644100.0</td><td>635500.0</td><td>641000.0</td></tr><tr><td>2024-04-03</td><td>&quot;1403-01-15&quot;</td><td>627730.0</td><td>634750.0</td><td>627500.0</td><td>634740.0</td></tr><tr><td>&hellip;</td><td>&hellip;</td><td>&hellip;</td><td>&hellip;</td><td>&hellip;</td><td>&hellip;</td></tr><tr><td>2011-11-30</td><td>&quot;1390-09-09&quot;</td><td>13500.0</td><td>13500.0</td><td>13500.0</td><td>13500.0</td></tr><tr><td>2011-11-29</td><td>&quot;1390-09-08&quot;</td><td>13400.0</td><td>13400.0</td><td>13400.0</td><td>13400.0</td></tr><tr><td>2011-11-28</td><td>&quot;1390-09-07&quot;</td><td>13350.0</td><td>13350.0</td><td>13350.0</td><td>13350.0</td></tr><tr><td>2011-11-27</td><td>&quot;1390-09-06&quot;</td><td>13440.0</td><td>13440.0</td><td>13440.0</td><td>13440.0</td></tr><tr><td>2011-11-26</td><td>&quot;1390-09-05&quot;</td><td>13700.0</td><td>13700.0</td><td>13700.0</td><td>13700.0</td></tr></tbody></table></div>"
      ],
      "text/plain": [
       "shape: (3_915, 6)\n",
       "┌────────────┬────────────┬──────────┬──────────┬──────────┬──────────┐\n",
       "│ date       ┆ jdate      ┆ open     ┆ high     ┆ low      ┆ close    │\n",
       "│ ---        ┆ ---        ┆ ---      ┆ ---      ┆ ---      ┆ ---      │\n",
       "│ date       ┆ str        ┆ f64      ┆ f64      ┆ f64      ┆ f64      │\n",
       "╞════════════╪════════════╪══════════╪══════════╪══════════╪══════════╡\n",
       "│ 2024-05-25 ┆ 1403-03-05 ┆ 0.0      ┆ 0.0      ┆ 0.0      ┆ 0.0      │\n",
       "│ 2024-05-14 ┆ 1403-02-25 ┆ 594850.0 ┆ 595600.0 ┆ 594800.0 ┆ 595000.0 │\n",
       "│ 2024-04-06 ┆ 1403-01-18 ┆ 647000.0 ┆ 647000.0 ┆ 647000.0 ┆ 647000.0 │\n",
       "│ 2024-04-04 ┆ 1403-01-16 ┆ 635620.0 ┆ 644100.0 ┆ 635500.0 ┆ 641000.0 │\n",
       "│ 2024-04-03 ┆ 1403-01-15 ┆ 627730.0 ┆ 634750.0 ┆ 627500.0 ┆ 634740.0 │\n",
       "│ …          ┆ …          ┆ …        ┆ …        ┆ …        ┆ …        │\n",
       "│ 2011-11-30 ┆ 1390-09-09 ┆ 13500.0  ┆ 13500.0  ┆ 13500.0  ┆ 13500.0  │\n",
       "│ 2011-11-29 ┆ 1390-09-08 ┆ 13400.0  ┆ 13400.0  ┆ 13400.0  ┆ 13400.0  │\n",
       "│ 2011-11-28 ┆ 1390-09-07 ┆ 13350.0  ┆ 13350.0  ┆ 13350.0  ┆ 13350.0  │\n",
       "│ 2011-11-27 ┆ 1390-09-06 ┆ 13440.0  ┆ 13440.0  ┆ 13440.0  ┆ 13440.0  │\n",
       "│ 2011-11-26 ┆ 1390-09-05 ┆ 13700.0  ┆ 13700.0  ┆ 13700.0  ┆ 13700.0  │\n",
       "└────────────┴────────────┴──────────┴──────────┴──────────┴──────────┘"
      ]
     },
     "execution_count": 7,
     "metadata": {},
     "output_type": "execute_result"
    }
   ],
   "source": [
    "# from oxtapus import TGJU\n",
    "\n",
    "# tgju = TGJU()\n",
    "# tgju.usd_irr()\n",
    "# ons = tgju.ons()\n",
    "# ons.write_csv('./ons.csv', separator=\",\")\n",
    "# rob = tgju.rob_sekke()\n",
    "# rob.write_csv('./rob.csv', separator=\",\")"
   ]
  },
  {
   "cell_type": "code",
   "execution_count": 27,
   "metadata": {},
   "outputs": [
    {
     "name": "stdout",
     "output_type": "stream",
     "text": [
      "[[1 2]\n",
      " [3 4]]\n"
     ]
    }
   ],
   "source": [
    "import numpy as np\n",
    "\n",
    "numbers = np.array([1, 2, 3, 4, 5, 6, 7, 8, 9, 10])\n",
    "# print(numbers.shape)\n",
    "# print(numbers)\n",
    "# print(numbers[-5:-3])\n",
    "\n",
    "numbers = np.array([[1, 2], [3, 4], [5, 6], [7, 8], [9, 10]])\n",
    "# print(numbers.shape)\n",
    "# print(numbers)\n",
    "print(numbers[0:2])"
   ]
  },
  {
   "cell_type": "code",
   "execution_count": 63,
   "metadata": {},
   "outputs": [
    {
     "data": {
      "text/html": [
       "<div>\n",
       "<style scoped>\n",
       "    .dataframe tbody tr th:only-of-type {\n",
       "        vertical-align: middle;\n",
       "    }\n",
       "\n",
       "    .dataframe tbody tr th {\n",
       "        vertical-align: top;\n",
       "    }\n",
       "\n",
       "    .dataframe thead th {\n",
       "        text-align: right;\n",
       "    }\n",
       "</style>\n",
       "<table border=\"1\" class=\"dataframe\">\n",
       "  <thead>\n",
       "    <tr style=\"text-align: right;\">\n",
       "      <th></th>\n",
       "      <th>o</th>\n",
       "      <th>h</th>\n",
       "      <th>l</th>\n",
       "      <th>c</th>\n",
       "    </tr>\n",
       "    <tr>\n",
       "      <th>date</th>\n",
       "      <th></th>\n",
       "      <th></th>\n",
       "      <th></th>\n",
       "      <th></th>\n",
       "    </tr>\n",
       "  </thead>\n",
       "  <tbody>\n",
       "    <tr>\n",
       "      <th>2020-01-01 10:10:00</th>\n",
       "      <td>32.1</td>\n",
       "      <td>38.2</td>\n",
       "      <td>29.50</td>\n",
       "      <td>33.10</td>\n",
       "    </tr>\n",
       "    <tr>\n",
       "      <th>2020-01-01 10:15:00</th>\n",
       "      <td>33.5</td>\n",
       "      <td>39.1</td>\n",
       "      <td>31.25</td>\n",
       "      <td>41.12</td>\n",
       "    </tr>\n",
       "  </tbody>\n",
       "</table>\n",
       "</div>"
      ],
      "text/plain": [
       "                        o     h      l      c\n",
       "date                                         \n",
       "2020-01-01 10:10:00  32.1  38.2  29.50  33.10\n",
       "2020-01-01 10:15:00  33.5  39.1  31.25  41.12"
      ]
     },
     "execution_count": 63,
     "metadata": {},
     "output_type": "execute_result"
    }
   ],
   "source": [
    "import pandas as pd\n",
    "import pyarrow as pa\n",
    "\n",
    "data = {\n",
    "    'date': ['2020-01-01 10:10:00', '2020-01-01 10:15:00', '2020-01-01 10:20:00'],\n",
    "    'o': [32.1, 33.5, 41.12],\n",
    "    'h': [38.2, 39.1, 46.5],\n",
    "    'l': [29.5, 31.25, 40.45],\n",
    "    'c': [33.1, 41.12, 46.5],\n",
    "    'v': [1232.3, 2516.1, 1980.5],\n",
    "}\n",
    "\n",
    "df = pd.DataFrame(data=data, columns=['date', 'o', 'h', 'l', 'c'])\n",
    "# df['date'] = df['date'].astype('date64[ms]')\n",
    "df['date'] = pd.to_datetime(df['date'])\n",
    "df.set_index(keys='date', inplace=True)\n",
    "\n",
    "df[\"2020-01-01 10:09:00\":\"2020-01-01 10:15:00\"]\n"
   ]
  }
 ],
 "metadata": {
  "kernelspec": {
   "display_name": ".venv",
   "language": "python",
   "name": "python3"
  },
  "language_info": {
   "codemirror_mode": {
    "name": "ipython",
    "version": 3
   },
   "file_extension": ".py",
   "mimetype": "text/x-python",
   "name": "python",
   "nbconvert_exporter": "python",
   "pygments_lexer": "ipython3",
   "version": "3.10.12"
  }
 },
 "nbformat": 4,
 "nbformat_minor": 2
}
